{
  "metadata": {
    "kernelspec": {
      "name": "python",
      "display_name": "Python (Pyodide)",
      "language": "python"
    },
    "language_info": {
      "codemirror_mode": {
        "name": "python",
        "version": 3
      },
      "file_extension": ".py",
      "mimetype": "text/x-python",
      "name": "python",
      "nbconvert_exporter": "python",
      "pygments_lexer": "ipython3",
      "version": "3.8"
    }
  },
  "nbformat_minor": 5,
  "nbformat": 4,
  "cells": [
    {
      "id": "9c6639a0-a0d6-43c1-89a6-3cfbb50eb03c",
      "cell_type": "code",
      "source": "import random\n\nnum_samples= 1000000\ninside_circle= 0\n\nfor i in range(num_samples):\n    x = random.uniform(-1,1)\n    y = random.uniform(-1,1)\n    if x**2 + y**2 <= 1:\n        inside_circle += 1\n\npi_estimate = 4 * inside_circle / num_samples\nprint(f\"Estimated Pi: {pi_estimate}\")\n",
      "metadata": {
        "trusted": true
      },
      "outputs": [
        {
          "name": "stdout",
          "output_type": "stream",
          "text": "Estimated Pi: 3.14256\n"
        }
      ],
      "execution_count": 9
    },
    {
      "id": "23cb293b-0c58-4fcf-aed1-efb3a8de5116",
      "cell_type": "code",
      "source": "",
      "metadata": {
        "trusted": true
      },
      "outputs": [],
      "execution_count": null
    },
    {
      "id": "a1fc25f0-7194-4d7e-8f38-6c88f986e0d6",
      "cell_type": "code",
      "source": "",
      "metadata": {
        "trusted": true
      },
      "outputs": [],
      "execution_count": null
    },
    {
      "id": "2d364f74-3632-4181-aee1-4c19bb794448",
      "cell_type": "code",
      "source": "",
      "metadata": {
        "trusted": true
      },
      "outputs": [],
      "execution_count": null
    }
  ]
}